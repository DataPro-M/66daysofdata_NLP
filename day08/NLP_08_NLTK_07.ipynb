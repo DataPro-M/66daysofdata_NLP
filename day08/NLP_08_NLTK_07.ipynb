{
 "cells": [
  {
   "cell_type": "markdown",
   "id": "3f5bb429-4f99-474c-800b-489d0c79165c",
   "metadata": {},
   "source": [
    "# day 8 of #66daysofdata_NLP\n",
    "## NLTK: part 7\n",
    "## Named Entity Recognition with Stanford NER Tagger"
   ]
  },
  {
   "cell_type": "markdown",
   "id": "e5835039-8eb4-49c6-a9bc-0fbd9bdb7d78",
   "metadata": {},
   "source": [
    "* ref: \n",
    "    - [https://pythonprogramming.net](https://pythonprogramming.net)\n",
    "    - [Stanford Named Entity Recognizer (NER)](https://nlp.stanford.edu/software/CRF-NER.shtml#Download)"
   ]
  },
  {
   "cell_type": "markdown",
   "id": "7b3b4e4e-e2f4-4d1f-99ea-42d36d6584b6",
   "metadata": {},
   "source": [
    "A big benefit of the `Stanford NER tagger` is that is provides us with a few different models for pulling out named entities. We can use any of the following:\n",
    "\n",
    "- __3__ class model for recognizing `locations`, `persons`, and `organizations`\n",
    "- __4__ class model for recognizing `locations`, `persons`, `organizations`, and `miscellaneous entities`\n",
    "- __7__ class model for recognizing `locations`, `persons`, `organizations`, `times`, `money`, `percents`, and `dates`\n"
   ]
  },
  {
   "cell_type": "code",
   "execution_count": 10,
   "id": "8df2fb16-0f2c-48ea-a7a4-bc86b25d12ff",
   "metadata": {
    "tags": []
   },
   "outputs": [
    {
     "name": "stdout",
     "output_type": "stream",
     "text": [
      "'O' (means)--> other, i.e., non-named entities\n",
      "  [('While', 'O'), ('in', 'O'), ('France', 'LOCATION'), (',', 'O'), ('Christine', 'PERSON'), ('Lagarde', 'PERSON'), ('discussed', 'O'), ('short-term', 'O'), ('stimulus', 'O'), ('efforts', 'O'), ('in', 'O'), ('a', 'O'), ('recent', 'O'), ('interview', 'O'), ('with', 'O'), ('the', 'O'), ('Wall', 'ORGANIZATION'), ('Street', 'ORGANIZATION'), ('Journal', 'ORGANIZATION'), ('.', 'O')]\n"
     ]
    }
   ],
   "source": [
    "# -*- coding: utf-8 -*-\n",
    "\n",
    "# we'll need to download the models and a jar file, since the NER classifier is written in Java.\n",
    "# NTLK provides a wrapper to the Stanford tagger \n",
    "from nltk.tag import StanfordNERTagger\n",
    "from nltk.tokenize import word_tokenize\n",
    "\n",
    "st = StanfordNERTagger('StanfordNERTagger_data/english.all.3class.distsim.crf.ser.gz',\n",
    "\t\t\t\t\t   'StanfordNERTagger_data/stanford-ner.jar',\n",
    "\t\t\t\t\t   encoding='utf-8')\n",
    "\n",
    "text = 'While in France, Christine Lagarde discussed short-term stimulus efforts in a recent interview with the Wall Street Journal.'\n",
    "\n",
    "tokenized_text = word_tokenize(text)\n",
    "classified_text = st.tag(tokenized_text)\n",
    "\n",
    "print(\"'O' (means)--> other, i.e., non-named entities\\n \",classified_text)"
   ]
  },
  {
   "cell_type": "markdown",
   "id": "8a892fce-2cd7-4eab-9604-06c8c2c3c8d2",
   "metadata": {},
   "source": [
    "## Testing NLTK and Stanford NER Taggers for Accuracy"
   ]
  },
  {
   "cell_type": "code",
   "execution_count": 2,
   "id": "08cf8a62-7a3c-4631-851c-34fa792899bf",
   "metadata": {},
   "outputs": [],
   "source": [
    "import nltk\n",
    "from nltk.tag import StanfordNERTagger\n",
    "from nltk.metrics.scores import accuracy\n",
    "\n",
    "#  manually annotated dataset available for free with over 16,000 English sentences.\n",
    "raw_annotations = open(\"../datasets/wikigold.conll.txt\").read()\n",
    "split_annotations = raw_annotations.split()\n",
    "\n",
    "# Amend class annotations to reflect Stanford's NERTagger\n",
    "for n,i in enumerate(split_annotations):\n",
    "\tif i == \"I-PER\":\n",
    "\t\tsplit_annotations[n] = \"PERSON\"\n",
    "\tif i == \"I-ORG\":\n",
    "\t\tsplit_annotations[n] = \"ORGANIZATION\"\n",
    "\tif i == \"I-LOC\":\n",
    "\t\tsplit_annotations[n] = \"LOCATION\"\n",
    "\n",
    "# Group NE data into tuples\n",
    "def group(lst, n):\n",
    "    for i in range(0, len(lst), n):\n",
    "        val = lst[i:i+n]\n",
    "        if len(val) == n:\n",
    "            yield tuple(val)\n",
    "\n",
    "reference_annotations = list(group(split_annotations, 2))"
   ]
  },
  {
   "cell_type": "code",
   "execution_count": 8,
   "id": "c1c8c853-6da8-4528-a2b7-460bc9e841d1",
   "metadata": {},
   "outputs": [],
   "source": [
    "pure_tokens = split_annotations[::2]\n"
   ]
  },
  {
   "cell_type": "code",
   "execution_count": 4,
   "id": "34c4776f-1ce9-4665-9eef-7791bd44595f",
   "metadata": {},
   "outputs": [],
   "source": [
    "tagged_words = nltk.pos_tag(pure_tokens)\n",
    "nltk_unformatted_prediction = nltk.ne_chunk(tagged_words)"
   ]
  },
  {
   "cell_type": "code",
   "execution_count": 5,
   "id": "b2862459-3fe4-4411-b6fe-6dddc484c72a",
   "metadata": {},
   "outputs": [],
   "source": [
    "#Convert prediction to multiline string and then to list (includes pos tags)\n",
    "multiline_string = nltk.chunk.tree2conllstr(nltk_unformatted_prediction)\n",
    "listed_pos_and_ne = multiline_string.split()\n",
    "\n",
    "# Delete pos tags and rename\n",
    "del listed_pos_and_ne[1::3]\n",
    "listed_ne = listed_pos_and_ne\n",
    "\n",
    "# Amend class annotations for consistency with reference_annotations\n",
    "for n,i in enumerate(listed_ne):\n",
    "\tif i == \"B-PERSON\":\n",
    "\t\tlisted_ne[n] = \"PERSON\"\n",
    "\tif i == \"I-PERSON\":\n",
    "\t\tlisted_ne[n] = \"PERSON\"    \n",
    "\tif i == \"B-ORGANIZATION\":\n",
    "\t\tlisted_ne[n] = \"ORGANIZATION\"\n",
    "\tif i == \"I-ORGANIZATION\":\n",
    "\t\tlisted_ne[n] = \"ORGANIZATION\"\n",
    "\tif i == \"B-LOCATION\":\n",
    "\t\tlisted_ne[n] = \"LOCATION\"\n",
    "\tif i == \"I-LOCATION\":\n",
    "\t\tlisted_ne[n] = \"LOCATION\"\n",
    "\tif i == \"B-GPE\":\n",
    "\t\tlisted_ne[n] = \"LOCATION\"\n",
    "\tif i == \"I-GPE\":\n",
    "\t\tlisted_ne[n] = \"LOCATION\"\n",
    "\n",
    "# Group prediction into tuples\n",
    "nltk_formatted_prediction = list(group(listed_ne, 2))"
   ]
  },
  {
   "cell_type": "code",
   "execution_count": 6,
   "id": "68f49f47-c327-4a01-89b6-c2bd0f189db3",
   "metadata": {},
   "outputs": [
    {
     "name": "stdout",
     "output_type": "stream",
     "text": [
      "0.8977574581119738\n"
     ]
    }
   ],
   "source": [
    "nltk_accuracy = accuracy(reference_annotations, nltk_formatted_prediction)\n",
    "print(nltk_accuracy)"
   ]
  },
  {
   "cell_type": "code",
   "execution_count": 7,
   "id": "7255f54b-7bcc-45bb-b209-1d175bd75349",
   "metadata": {},
   "outputs": [
    {
     "name": "stdout",
     "output_type": "stream",
     "text": [
      "0.9222261953412342\n"
     ]
    }
   ],
   "source": [
    "stanford_prediction = st.tag(pure_tokens)\n",
    "stanford_accuracy = accuracy(reference_annotations, stanford_prediction)\n",
    "print(stanford_accuracy)"
   ]
  },
  {
   "cell_type": "code",
   "execution_count": 15,
   "id": "598fdd39-b504-493d-af55-9da5605c61cc",
   "metadata": {
    "jupyter": {
     "source_hidden": true
    },
    "tags": []
   },
   "outputs": [
    {
     "data": {
      "image/png": "[encoded data removed]",
      "text/plain": [
       "<Figure size 432x288 with 1 Axes>"
      ]
     },
     "metadata": {},
     "output_type": "display_data"
    }
   ],
   "source": [
    "import numpy as np\n",
    "import matplotlib.pyplot as plt\n",
    "from matplotlib import style\n",
    "\n",
    "style.use('fivethirtyeight')\n",
    "\n",
    "N = 1\n",
    "ind = np.arange(N)  # the x locations for the groups\n",
    "width = 0.35       # the width of the bars\n",
    "\n",
    "fig, ax = plt.subplots()\n",
    "\n",
    "stanford_percentage = stanford_accuracy * 100\n",
    "rects1 = ax.bar(ind, stanford_percentage, width, color='r')\n",
    "\n",
    "nltk_percentage = nltk_accuracy * 100\n",
    "rects2 = ax.bar(ind+width, nltk_percentage, width, color='y')\n",
    "\n",
    "# add some text for labels, title and axes ticks\n",
    "ax.set_xlabel('Classifier')\n",
    "ax.set_ylabel('Accuracy (by percentage)\\n')\n",
    "ax.set_title('Accuracy by NER Classifier\\n')\n",
    "ax.set_xticks(ind+width)\n",
    "ax.set_xticklabels( ('') )\n",
    "\n",
    "ax.legend( (rects1[0], rects2[0]), ('Stanford', 'NLTK'), bbox_to_anchor=(1.05, 1), loc=2, borderaxespad=0. )\n",
    "\n",
    "def autolabel(rects):\n",
    "\t# attach some text labels\n",
    "\tfor rect in rects:\n",
    "\t\theight = rect.get_height()\n",
    "\t\tax.text(rect.get_x()+rect.get_width()/2., 1.02*height, '%10.2f' % float(height),\n",
    "\t\t\t\tha='center', va='bottom')\n",
    "\n",
    "autolabel(rects1)\n",
    "autolabel(rects2)\n",
    "\n",
    "plt.show()"
   ]
  }
 ],
 "metadata": {
  "kernelspec": {
   "display_name": "p36",
   "language": "python",
   "name": "p36"
  },
  "language_info": {
   "codemirror_mode": {
    "name": "ipython",
    "version": 3
   },
   "file_extension": ".py",
   "mimetype": "text/x-python",
   "name": "python",
   "nbconvert_exporter": "python",
   "pygments_lexer": "ipython3",
   "version": "3.6.10"
  }
 },
 "nbformat": 4,
 "nbformat_minor": 5
}
