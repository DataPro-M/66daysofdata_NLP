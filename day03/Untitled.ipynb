{
 "cells": [
  {
   "cell_type": "markdown",
   "id": "6766a56b-a8aa-40de-a371-6a9721309cc5",
   "metadata": {},
   "source": [
    "# NLTK: part 2"
   ]
  },
  {
   "cell_type": "markdown",
   "id": "bcdabf44-de84-4ef2-bc8f-746112e75ae7",
   "metadata": {},
   "source": [
    "* ref: \n",
    "    - [https://pythonprogramming.net](https://pythonprogramming.net)\n",
    "    - [www.geeksforgeeks.org](https://www.geeksforgeeks.org/python-stemming-words-with-nltk/)"
   ]
  }
 ],
 "metadata": {
  "kernelspec": {
   "display_name": "p36",
   "language": "python",
   "name": "p36"
  },
  "language_info": {
   "codemirror_mode": {
    "name": "ipython",
    "version": 3
   },
   "file_extension": ".py",
   "mimetype": "text/x-python",
   "name": "python",
   "nbconvert_exporter": "python",
   "pygments_lexer": "ipython3",
   "version": "3.6.10"
  }
 },
 "nbformat": 4,
 "nbformat_minor": 5
}
