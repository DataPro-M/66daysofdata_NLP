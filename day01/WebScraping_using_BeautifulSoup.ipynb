{
 "cells": [
  {
   "cell_type": "markdown",
   "id": "19a15bf3-6206-46aa-9166-f0e7ecc196a9",
   "metadata": {},
   "source": [
    "# HTML Parsing and Cleanup\n",
    "\n",
    "ref. book: __practical-natural-language-processing-a-comprehensive-guide-to-building-real-world-nlp-systems__"
   ]
  },
  {
   "cell_type": "markdown",
   "id": "49487fdd-c0b5-4121-914e-c0d5e0f8e09c",
   "metadata": {},
   "source": [
    "## In this notebook we show how we can scrap data from webpages using the Beautiful Soup, a python library"
   ]
  },
  {
   "cell_type": "markdown",
   "id": "a4b0646b-e7fd-4697-ac32-c608e1461995",
   "metadata": {},
   "source": [
    "Say we’re working on a project where we’re building a forum search\n",
    "engine for programming questions. We’ve identified __Stack Overflow__\n",
    "as a source and decided to extract question and best-answer pairs\n",
    "from the website. How can we go through the text-extraction step in\n",
    "this case? If we observe the HTML markup of a typical Stack\n",
    "Overflow question page, we notice that questions and answers have\n",
    "special tags associated with them. We can utilize this information\n",
    "while extracting text from the HTML page. While it may seem like\n",
    "writing our own HTML parser is the way to go, for most cases we\n",
    "encounter, it’s more feasible to utilize existing libraries such as\n",
    "__Beautiful Soup__. and __Scrapy__, which provide a range of\n",
    "utilities to parse web pages. The following code snippet shows how\n",
    "to use Beautiful Soup to address the problem described here,\n",
    "extracting a question and its best-answer pair from a Stack Overflow\n",
    "web page:"
   ]
  },
  {
   "cell_type": "code",
   "execution_count": 1,
   "id": "3bdaf70e-2522-406a-b9f8-ee0a6ad01194",
   "metadata": {
    "collapsed": true,
    "jupyter": {
     "outputs_hidden": true
    },
    "tags": []
   },
   "outputs": [
    {
     "name": "stdout",
     "output_type": "stream",
     "text": [
      "Collecting beautifulsoup4==4.6.3\n",
      "  Downloading beautifulsoup4-4.6.3-py3-none-any.whl (90 kB)\n",
      "\u001b[K     |████████████████████████████████| 90 kB 475 kB/s eta 0:00:01\n",
      "\u001b[?25hInstalling collected packages: beautifulsoup4\n",
      "  Attempting uninstall: beautifulsoup4\n",
      "    Found existing installation: beautifulsoup4 4.9.3\n",
      "    Uninstalling beautifulsoup4-4.9.3:\n",
      "      Successfully uninstalled beautifulsoup4-4.9.3\n",
      "Successfully installed beautifulsoup4-4.6.3\n"
     ]
    }
   ],
   "source": [
    "# To install only the requirements of this notebook, uncomment the lines below and run this cell\n",
    "\n",
    "# ===========================\n",
    "\n",
    "!pip install beautifulsoup4==4.6.3\n",
    "\n",
    "# ==========================="
   ]
  },
  {
   "cell_type": "code",
   "execution_count": 2,
   "id": "3e0b4bb2-80b8-4006-bea6-ea228ff92751",
   "metadata": {},
   "outputs": [],
   "source": [
    "# making the necessary imports\n",
    "from pprint import pprint\n",
    "from bs4 import BeautifulSoup\n",
    "from urllib.request import urlopen"
   ]
  },
  {
   "cell_type": "code",
   "execution_count": 13,
   "id": "3b684816-1b41-4705-91ee-ff2645edcd04",
   "metadata": {},
   "outputs": [],
   "source": [
    "myurl = \"https://stackoverflow.com/questions/415511/how-to-get-the-current-time-in-python\" # specify the url\n",
    "html = urlopen(myurl).read() # query the website so that it returns a html page  \n",
    "soupified = BeautifulSoup(html, 'html.parser') # parse the html in the 'html' variable, and store it in Beautiful Soup format"
   ]
  },
  {
   "cell_type": "markdown",
   "id": "3e9fb342-21e7-4b15-8665-2437e3e7f651",
   "metadata": {},
   "source": [
    "As the size of the HTML webpage (soupified) is large, we are just showing some of its output (only 2000 characters)."
   ]
  },
  {
   "cell_type": "code",
   "execution_count": 14,
   "id": "144a969c-6834-4f65-8ece-387ed0f30ed3",
   "metadata": {
    "tags": []
   },
   "outputs": [
    {
     "name": "stdout",
     "output_type": "stream",
     "text": [
      "('<!DOCTYPE html>\\n'\n",
      " '<html class=\"html__responsive html__fixed-top-bar\" itemscope=\"\" '\n",
      " 'itemtype=\"https://schema.org/QAPage\">\\n'\n",
      " ' <head>\\n'\n",
      " '  <title>\\n'\n",
      " '   datetime - How to get the current time in Python - Stack Overflow\\n'\n",
      " '  </title>\\n'\n",
      " '  <link '\n",
      " 'href=\"https://cdn.sstatic.net/Sites/stackoverflow/Img/favicon.ico?v=ec617d715196\" '\n",
      " 'rel=\"shortcut icon\"/>\\n'\n",
      " '  <link '\n",
      " 'href=\"https://cdn.sstatic.net/Sites/stackoverflow/Img/apple-touch-icon.png?v=c78bd457575a\" '\n",
      " 'rel=\"apple-touch-icon\"/>\\n'\n",
      " '  <link '\n",
      " 'href=\"https://cdn.sstatic.net/Sites/stackoverflow/Img/apple-touch-icon.png?v=c78bd457575a\" '\n",
      " 'rel=\"image_src\"/>\\n'\n",
      " '  <link href=\"/opensearch.xml\" rel=\"search\" title=\"Stack Overflow\" '\n",
      " 'type=\"application/opensearchdescription+xml\"/>\\n'\n",
      " '  <link '\n",
      " 'href=\"https://stackoverflow.com/questions/415511/how-to-get-the-current-time-in-python\" '\n",
      " 'rel=\"canonical\">\\n'\n",
      " '   <meta content=\"width=device-width, height=device-height, '\n",
      " 'initial-scale=1.0, minimum-scale=1.0\" name=\"viewport\"/>\\n'\n",
      " '   <meta content=\"website\" property=\"og:type\">\\n'\n",
      " '    <meta '\n",
      " 'content=\"https://stackoverflow.com/questions/415511/how-to-get-the-current-time-in-python\" '\n",
      " 'property=\"og:url\"/>\\n'\n",
      " '    <meta content=\"Stack Overflow\" property=\"og:site_name\"/>\\n'\n",
      " '    <meta '\n",
      " 'content=\"https://cdn.sstatic.net/Sites/stackoverflow/Img/apple-touch-icon@2.png?v=73d79a89bded\" '\n",
      " 'itemprop=\"image primaryImageOfPage\" property=\"og:image\"/>\\n'\n",
      " '    <meta content=\"summary\" name=\"twitter:card\"/>\\n'\n",
      " '    <meta content=\"stackoverflow.com\" name=\"twitter:domain\"/>\\n'\n",
      " '    <meta content=\"How to get the current time in Python\" itemprop=\"name\" '\n",
      " 'name=\"twitter:title\" property=\"og:title\"/>\\n'\n",
      " '    <meta content=\"What is the module/method used to get the current time?\" '\n",
      " 'itemprop=\"description\" name=\"twitter:description\" '\n",
      " 'property=\"og:description\"/>\\n'\n",
      " '    <script '\n",
      " 'src=\"https://ajax.googleapis.com/ajax/libs/jquery/1.12.4/jquery.min.js\">\\n'\n",
      " '    </script>\\n'\n",
      " '    <script src=\"https://cdn.sstatic.net/Js/stub.en.js?v=2bc14534f6cc\">\\n'\n",
      " '    </script>\\n'\n",
      " '    <link href=\"https://cdn.sstatic.net/Shared/stacks.css?v=73f2085cb668\" '\n",
      " 'rel=\"stylesheet\" type=\"text/css\"/>\\n'\n",
      " '    <link href=\"ht')\n"
     ]
    }
   ],
   "source": [
    "pprint(soupified.prettify()[:2000]) # to get an idea of the html structure of the webpage"
   ]
  },
  {
   "cell_type": "code",
   "execution_count": 15,
   "id": "c146b6af-fc09-4411-874c-c7bb274bd3ba",
   "metadata": {},
   "outputs": [
    {
     "data": {
      "text/plain": [
       "<title>datetime - How to get the current time in Python - Stack Overflow</title>"
      ]
     },
     "execution_count": 15,
     "metadata": {},
     "output_type": "execute_result"
    }
   ],
   "source": [
    "soupified.title # to get the title of the web page"
   ]
  },
  {
   "cell_type": "code",
   "execution_count": 16,
   "id": "e9565048-d9e0-4556-9f68-29171b036d32",
   "metadata": {},
   "outputs": [
    {
     "name": "stdout",
     "output_type": "stream",
     "text": [
      "Question: \n",
      " What is the module/method used to get the current time?\n",
      "Best answer: \n",
      " Use:\n",
      ">>> import datetime\n",
      ">>> datetime.datetime.now()\n",
      "datetime.datetime(2009, 1, 6, 15, 8, 24, 78915)\n",
      "\n",
      ">>> print(datetime.datetime.now())\n",
      "2009-01-06 15:08:24.789150\n",
      "\n",
      "And just the time:\n",
      ">>> datetime.datetime.now().time()\n",
      "datetime.time(15, 8, 24, 78915)\n",
      "\n",
      ">>> print(datetime.datetime.now().time())\n",
      "15:08:24.789150\n",
      "\n",
      "See the documentation for more information.\n",
      "To save typing, you can import the datetime object from the datetime module:\n",
      ">>> from datetime import datetime\n",
      "\n",
      "Then remove the leading datetime. from all of the above.\n"
     ]
    }
   ],
   "source": [
    "question = soupified.find(\"div\", {\"class\": \"question\"}) # find the nevessary tag and class which it belongs to\n",
    "questiontext = question.find(\"div\", {\"class\": \"s-prose js-post-body\"})\n",
    "print(\"Question: \\n\", questiontext.get_text().strip())\n",
    "\n",
    "answer = soupified.find(\"div\", {\"class\": \"answer\"}) # find the nevessary tag and class which it belongs to\n",
    "answertext = answer.find(\"div\", {\"class\": \"s-prose js-post-body\"})\n",
    "print(\"Best answer: \\n\", answertext.get_text().strip())"
   ]
  },
  {
   "cell_type": "markdown",
   "id": "d64d618b-7d63-46dc-b203-1213666388d7",
   "metadata": {},
   "source": [
    "\n",
    "\n",
    "-  __BeautifulSoup__ is one of the many libraries which allow us to scrape web pages. Depending on your needs you can choose between the many available choices like beautifulsoup, scrapy, selenium, etc\n"
   ]
  }
 ],
 "metadata": {
  "kernelspec": {
   "display_name": "p36",
   "language": "python",
   "name": "p36"
  },
  "language_info": {
   "codemirror_mode": {
    "name": "ipython",
    "version": 3
   },
   "file_extension": ".py",
   "mimetype": "text/x-python",
   "name": "python",
   "nbconvert_exporter": "python",
   "pygments_lexer": "ipython3",
   "version": "3.6.10"
  }
 },
 "nbformat": 4,
 "nbformat_minor": 5
}
