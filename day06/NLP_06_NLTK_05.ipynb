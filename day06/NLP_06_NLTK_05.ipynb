{
 "cells": [
  {
   "cell_type": "markdown",
   "id": "3f5bb429-4f99-474c-800b-489d0c79165c",
   "metadata": {},
   "source": [
    "# day 6 of #66daysofdata_NLP\n",
    "## NLTK: part 5\n",
    "## Combining Algorithms (classifiers) with NLTK"
   ]
  },
  {
   "cell_type": "markdown",
   "id": "e5835039-8eb4-49c6-a9bc-0fbd9bdb7d78",
   "metadata": {},
   "source": [
    "* ref: \n",
    "    - [https://pythonprogramming.net](https://pythonprogramming.net)\n",
    "    - [https://kaggle.com](https://www.kaggle.com/alvations/sklearn-nltk-voteclassifier)"
   ]
  },
  {
   "cell_type": "markdown",
   "id": "7b3b4e4e-e2f4-4d1f-99ea-42d36d6584b6",
   "metadata": {},
   "source": [
    "Combining classifier algorithms is is a common technique, done by creating a sort of voting system, `where each algorithm gets one vote`, and the classification that has the votes votes is the chosen one.\n"
   ]
  },
  {
   "cell_type": "code",
   "execution_count": 1,
   "id": "8df2fb16-0f2c-48ea-a7a4-bc86b25d12ff",
   "metadata": {
    "tags": []
   },
   "outputs": [],
   "source": [
    "# Step One: Import nltk and download necessary packages\n",
    "import warnings\n",
    "warnings.filterwarnings('ignore')\n",
    "warnings.simplefilter('ignore')\n",
    "import numpy as np\n",
    "import random\n",
    "from nltk.corpus import movie_reviews\n",
    "import nltk\n",
    "from nltk.classify.scikitlearn import SklearnClassifier\n",
    "from sklearn.naive_bayes import MultinomialNB, BernoulliNB\n",
    "# some more classifiers\n",
    "from sklearn.linear_model import LogisticRegression, SGDClassifier\n",
    "from sklearn.svm import SVC, LinearSVC, NuSVC"
   ]
  },
  {
   "cell_type": "code",
   "execution_count": 2,
   "id": "bd832c07-8fcc-4b60-b69c-917c1ad510d2",
   "metadata": {},
   "outputs": [
    {
     "name": "stdout",
     "output_type": "stream",
     "text": [
      "Firs 5 words of a Sample pos review: \n",
      "['assume', 'nothing', '.', 'the', 'phrase'] \n",
      "\n",
      "The 3 most common words and their counts: \n",
      "[(',', 77717), ('the', 76529), ('.', 65876)]\n",
      "\n",
      "An Example of first 5 words of a sample featureset of a neg review:\n",
      "{'plot': True, ':': True, 'two': False, 'teen': False, 'couples': False}, label --> neg \n",
      "('True' means the word is in top 3,000 most common words)\n"
     ]
    }
   ],
   "source": [
    "# create training and testing set (see prev. tutorial)\n",
    "\n",
    "def movie_reviews_to_features(verbose=0):\n",
    "    # In each category (we have pos or neg), take all of the file IDs (each review has its own ID), \n",
    "    # then store the word_tokenized version (a list of words) for the file ID, \n",
    "    # followed by the positive or negative label in one big list. \n",
    "    documents = [(list(movie_reviews.words(fileid)), category)\n",
    "                 for category in movie_reviews.categories()\n",
    "                 for fileid in movie_reviews.fileids(category)]\n",
    "    \n",
    "    #  random to shuffle our documents. This is because we're going to be training and testing. \n",
    "    random.shuffle(documents)\n",
    "    # sample word_tokenized version of a review\n",
    "    # where the first element is a list the words, and the 2nd element is the \"pos\" or \"neg\" label.\n",
    "    if verbose ==1:\n",
    "        print('Firs 5 words of a Sample {} review: \\n{}'.format(documents[1][1],documents[1][0][:5]),'\\n')\n",
    "\n",
    "    all_words = []\n",
    "    for w in movie_reviews.words():\n",
    "        all_words.append(w.lower())\n",
    "\n",
    "    all_words = nltk.FreqDist(all_words)\n",
    "    if verbose ==1:\n",
    "        print('The 3 most common words and their counts: \\n{}\\n'.format(all_words.most_common(3)))\n",
    "    # word_features: contains the top 3,000 most common words.\n",
    "    word_features = list(all_words.keys())[:3000]\n",
    "\n",
    "    # find these top 3,000 words in our positive and negative documents,\n",
    "    # marking their presence as either positive or negative\n",
    "    def find_features(document):\n",
    "        words = set(document)\n",
    "        features = {}\n",
    "        for w in word_features:\n",
    "            features[w] = (w in words)\n",
    "\n",
    "        return features\n",
    "    featuresets = [(find_features(rev), category) for (rev, category) in documents]\n",
    "    if verbose ==1:\n",
    "        print(\"An Example of first 5 words of a sample featureset of a {} review:\\n{}, label --> {} \\n('True' means the word is in top 3,000 most common words)\".\n",
    "              format(featuresets[0][1],{k: featuresets[0][0][k] for k in list(featuresets[0][0])[:5]}, featuresets[0][1]))\n",
    "    return featuresets\n",
    "\n",
    "featuresets = movie_reviews_to_features(verbose=1)\n",
    "# set that we'll train our classifier with\n",
    "training_set = featuresets[:1900]\n",
    "\n",
    "# set that we'll test against.\n",
    "testing_set = featuresets[1900:]"
   ]
  },
  {
   "cell_type": "markdown",
   "id": "155be3a3-6c77-4e5f-b95f-fbbc8894aa07",
   "metadata": {},
   "source": [
    "## Sklearn + NLTK VoteClassifier"
   ]
  },
  {
   "cell_type": "code",
   "execution_count": 3,
   "id": "7ded6056-62fc-4f9f-97ce-93d47e60a0a9",
   "metadata": {
    "tags": []
   },
   "outputs": [],
   "source": [
    "#  'mode' will be our method for choosing the most popular vote\n",
    "from statistics import mode \n",
    "\n",
    "#our classifier class:\n",
    "# we want our new classifier to act like a typical NLTK classifier, \n",
    "# we can just be sure to inherit from the NLTK classifier class. \n",
    "class VoteClassifier:\n",
    "    \n",
    "    def __init__(self, *classifiers_objs):        \n",
    "        #we're assigning the list of classifiers that are passed to our class to self._classifiers.\n",
    "        self.classifiers_objs = classifiers_objs\n",
    "        \n",
    "    def train(self, training_set):\n",
    "        self._classifiers = {}\n",
    "        for clf_obj in self.classifiers_objs:\n",
    "            # NaiveBayesClassifier is part of nltk\n",
    "            if hasattr(clf_obj, '__name__') and clf_obj.__name__ == 'NaiveBayesClassifier':\n",
    "                clf_name = 'NaiveBayesClassifier'\n",
    "                print('Training', clf_name +'\\t'+ str(clf_obj))\n",
    "                clf_obj = nltk.NaiveBayesClassifier.train(training_set)\n",
    "            else:\n",
    "                clf_name = str(clf_obj).split('(')[1]\n",
    "                print('Training', clf_name +'\\t'+ str(clf_obj))\n",
    "                clf_obj.train(training_set)\n",
    "            self._classifiers[clf_name] = clf_obj\n",
    "\n",
    "    def evaluate(self, testing_set):\n",
    "        documents, labels = zip(*testing_set)\n",
    "        predictions = self.classify_documents(documents)\n",
    "        correct = [y == y_hat for y, y_hat in zip(labels, predictions)]\n",
    "        if correct:\n",
    "            return sum(correct) / len(correct)\n",
    "        else:\n",
    "            return 0,0\n",
    "\n",
    "    def classify_documents(self, documents):\n",
    "        return [self.classify_many(doc) for doc in documents]\n",
    "\n",
    "    def classify_many(self, features):\n",
    "        votes = []\n",
    "        for clf_name, clf  in self._classifiers.items():\n",
    "            v = clf.classify(features)\n",
    "            votes.append(v)\n",
    "        return mode(votes)\n",
    "\n",
    "    def confidence(self, features):\n",
    "        votes = []\n",
    "        for clf_name, clf  in self._classifiers.items():\n",
    "            v = clf.classify(features)\n",
    "            votes.append(v)\n",
    "        choice_votes = votes.count(mode(votes))\n",
    "        conf = choice_votes / len(votes)\n",
    "        return conf"
   ]
  },
  {
   "cell_type": "code",
   "execution_count": 4,
   "id": "09d3728e-4bbf-41c3-81fe-6caabf0aafd2",
   "metadata": {},
   "outputs": [
    {
     "name": "stdout",
     "output_type": "stream",
     "text": [
      "Training NaiveBayesClassifier\t<class 'nltk.classify.naivebayes.NaiveBayesClassifier'>\n",
      "Training MultinomialNB\t<SklearnClassifier(MultinomialNB())>\n",
      "Training BernoulliNB\t<SklearnClassifier(BernoulliNB())>\n",
      "Training LogisticRegression\t<SklearnClassifier(LogisticRegression())>\n",
      "Training SGDClassifier\t<SklearnClassifier(SGDClassifier())>\n",
      "Training LinearSVC\t<SklearnClassifier(LinearSVC())>\n",
      "Training NuSVC\t<SklearnClassifier(NuSVC())>\n"
     ]
    }
   ],
   "source": [
    "# initiate the VoteClassifier\n",
    "voted_classifier = VoteClassifier(nltk.NaiveBayesClassifier,\n",
    "                                  SklearnClassifier(MultinomialNB()), \n",
    "                                  SklearnClassifier(BernoulliNB()), \n",
    "                                  SklearnClassifier(LogisticRegression()),\n",
    "                                  SklearnClassifier(SGDClassifier()),\n",
    "                                  SklearnClassifier(LinearSVC()),\n",
    "                                  SklearnClassifier(NuSVC())\n",
    "                                 )\n",
    "\n",
    "# train the VoteClassifier\n",
    "voted_classifier.train(training_set)"
   ]
  },
  {
   "cell_type": "code",
   "execution_count": 7,
   "id": "a2bcacb0-8136-416c-8e4f-6dc705e1ae5c",
   "metadata": {},
   "outputs": [
    {
     "name": "stdout",
     "output_type": "stream",
     "text": [
      "Accuracy:\n",
      "-------------------------\n",
      "NaiveBayesClassifier \t 78.0\n",
      "MultinomialNB \t 83.0\n",
      "BernoulliNB \t 78.0\n",
      "LogisticRegression \t 80.0\n",
      "SGDClassifier \t 77.0\n",
      "LinearSVC \t 80.0\n",
      "NuSVC \t 83.0\n",
      "-------------------------\n",
      "VotedClassifier \t 85.0\n"
     ]
    }
   ],
   "source": [
    "print('Accuracy:\\n-------------------------')\n",
    "\n",
    "for clf_name, clf in voted_classifier._classifiers.items():\n",
    "    print(clf_name, '\\t', nltk.classify.accuracy(clf, testing_set)*100)\n",
    "print('-------------------------')\n",
    "print('VotedClassifier', '\\t', voted_classifier.evaluate(testing_set)*100)"
   ]
  },
  {
   "cell_type": "code",
   "execution_count": 6,
   "id": "1809cced-5eb7-49de-90e7-aa55f28ae967",
   "metadata": {},
   "outputs": [
    {
     "name": "stdout",
     "output_type": "stream",
     "text": [
      "Classifying some sample documents\n",
      "Classification: pos Confidence %: 100.0\n",
      "Classification: neg Confidence %: 71.42857142857143\n",
      "Classification: neg Confidence %: 100.0\n",
      "Classification: neg Confidence %: 100.0\n",
      "Classification: pos Confidence %: 100.0\n",
      "Classification: neg Confidence %: 100.0\n"
     ]
    }
   ],
   "source": [
    "#print(\"voted_classifier accuracy percent:\", (nltk.classify.accuracy(voted_classifier, testing_set))*100)\n",
    "print('Classifying some sample documents')\n",
    "print(\"Classification:\", voted_classifier.classify_many(testing_set[0][0]), \"Confidence %:\",voted_classifier.confidence(testing_set[0][0])*100)\n",
    "print(\"Classification:\", voted_classifier.classify_many(testing_set[1][0]), \"Confidence %:\",voted_classifier.confidence(testing_set[1][0])*100)\n",
    "print(\"Classification:\", voted_classifier.classify_many(testing_set[2][0]), \"Confidence %:\",voted_classifier.confidence(testing_set[2][0])*100)\n",
    "print(\"Classification:\", voted_classifier.classify_many(testing_set[3][0]), \"Confidence %:\",voted_classifier.confidence(testing_set[3][0])*100)\n",
    "print(\"Classification:\", voted_classifier.classify_many(testing_set[4][0]), \"Confidence %:\",voted_classifier.confidence(testing_set[4][0])*100)\n",
    "print(\"Classification:\", voted_classifier.classify_many(testing_set[5][0]), \"Confidence %:\",voted_classifier.confidence(testing_set[5][0])*100)"
   ]
  }
 ],
 "metadata": {
  "kernelspec": {
   "display_name": "p36",
   "language": "python",
   "name": "p36"
  },
  "language_info": {
   "codemirror_mode": {
    "name": "ipython",
    "version": 3
   },
   "file_extension": ".py",
   "mimetype": "text/x-python",
   "name": "python",
   "nbconvert_exporter": "python",
   "pygments_lexer": "ipython3",
   "version": "3.6.10"
  }
 },
 "nbformat": 4,
 "nbformat_minor": 5
}
