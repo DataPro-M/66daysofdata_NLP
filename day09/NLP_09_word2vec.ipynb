{
 "cells": [
  {
   "cell_type": "markdown",
   "id": "3f5bb429-4f99-474c-800b-489d0c79165c",
   "metadata": {},
   "source": [
    "# day 9 of #66daysofdata_NLP\n",
    "## word2vec\n"
   ]
  },
  {
   "cell_type": "markdown",
   "id": "e5835039-8eb4-49c6-a9bc-0fbd9bdb7d78",
   "metadata": {},
   "source": [
    "* ref: \n",
    "- [https://towardsdatascience.com](https://towardsdatascience.com/a-beginners-guide-to-word-embedding-with-gensim-word2vec-model-5970fa56cc92)\n",
    "* data set:\n",
    "- [Car Features and MSRP](https://www.kaggle.com/CooperUnion/cardataset) \n",
    "- Context:\n",
    "    - Cars dataset with features including make, model, year, engine, and other properties of the car used to predict its price.\n"
   ]
  },
  {
   "cell_type": "markdown",
   "id": "7b3b4e4e-e2f4-4d1f-99ea-42d36d6584b6",
   "metadata": {},
   "source": [
    "### Word Embedding simple explanation\n",
    "\n",
    "The most benefits from `Word Embedding` is\n",
    "even unseen words during traning can be predicted well, since pretrained word embedding already trained with larger data set than your train data.\n",
    "\n",
    "for example, `it is a good movie` is similar to `this is the best show`\n",
    "- `this` is similar to `it`, \n",
    "- `best` is similar to `good` and \n",
    "- `show` is similar to `movie` in pretrained word embedding vector.\n",
    "\n",
    "`Word2vec` is one of the most popular technique to learn word embeddings using a two-layer neural network. Its `input is a text corpus` and its `output is a set of vector`s. \n",
    "    -Word embedding via word2vec can make natural language computer-readable, then further implementation of mathematical operations on words can be used to `detect their similarities`.\n",
    "\n",
    "![App Screenshot](../images/word2vec.png)\n",
    "\n",
    "There are two main training algorithms for word2vec, one is the continuous `bag of words(CBOW)`, another is called `skip-gram`. The major difference between these two methods is that \n",
    "- __CBOW__ is using context to predict a target word \n",
    "- __Skip-gram__ is using a word to predict a target context."
   ]
  },
  {
   "cell_type": "code",
   "execution_count": null,
   "id": "977ecbc0-045a-4893-ac72-380ae6d15977",
   "metadata": {},
   "outputs": [],
   "source": [
    "# install gensim\n",
    "# ! conda install -c conda-forge gensim -y\n",
    "# ! pip install python-Levenshtein"
   ]
  },
  {
   "cell_type": "code",
   "execution_count": 55,
   "id": "8a028462-40f0-41f9-892a-d82dd80c4560",
   "metadata": {
    "tags": []
   },
   "outputs": [],
   "source": [
    "\n",
    "# load the libraries\n",
    "import gensim\n",
    "import pandas as pd\n",
    "import numpy as np\n",
    "import random"
   ]
  },
  {
   "cell_type": "markdown",
   "id": "8a892fce-2cd7-4eab-9604-06c8c2c3c8d2",
   "metadata": {},
   "source": [
    "###  Load data set"
   ]
  },
  {
   "cell_type": "code",
   "execution_count": 13,
   "id": "08cf8a62-7a3c-4631-851c-34fa792899bf",
   "metadata": {},
   "outputs": [
    {
     "data": {
      "text/html": [
       "<div>\n",
       "<style scoped>\n",
       "    .dataframe tbody tr th:only-of-type {\n",
       "        vertical-align: middle;\n",
       "    }\n",
       "\n",
       "    .dataframe tbody tr th {\n",
       "        vertical-align: top;\n",
       "    }\n",
       "\n",
       "    .dataframe thead th {\n",
       "        text-align: right;\n",
       "    }\n",
       "</style>\n",
       "<table border=\"1\" class=\"dataframe\">\n",
       "  <thead>\n",
       "    <tr style=\"text-align: right;\">\n",
       "      <th></th>\n",
       "      <th>Make</th>\n",
       "      <th>Model</th>\n",
       "      <th>Year</th>\n",
       "      <th>Engine Fuel Type</th>\n",
       "      <th>Engine HP</th>\n",
       "      <th>Engine Cylinders</th>\n",
       "      <th>Transmission Type</th>\n",
       "      <th>Driven_Wheels</th>\n",
       "      <th>Number of Doors</th>\n",
       "      <th>Market Category</th>\n",
       "      <th>Vehicle Size</th>\n",
       "      <th>Vehicle Style</th>\n",
       "      <th>highway MPG</th>\n",
       "      <th>city mpg</th>\n",
       "      <th>Popularity</th>\n",
       "      <th>MSRP</th>\n",
       "    </tr>\n",
       "  </thead>\n",
       "  <tbody>\n",
       "    <tr>\n",
       "      <th>0</th>\n",
       "      <td>BMW</td>\n",
       "      <td>1 Series M</td>\n",
       "      <td>2011</td>\n",
       "      <td>premium unleaded (required)</td>\n",
       "      <td>335.0</td>\n",
       "      <td>6.0</td>\n",
       "      <td>MANUAL</td>\n",
       "      <td>rear wheel drive</td>\n",
       "      <td>2.0</td>\n",
       "      <td>Factory Tuner,Luxury,High-Performance</td>\n",
       "      <td>Compact</td>\n",
       "      <td>Coupe</td>\n",
       "      <td>26</td>\n",
       "      <td>19</td>\n",
       "      <td>3916</td>\n",
       "      <td>46135</td>\n",
       "    </tr>\n",
       "    <tr>\n",
       "      <th>1</th>\n",
       "      <td>BMW</td>\n",
       "      <td>1 Series</td>\n",
       "      <td>2011</td>\n",
       "      <td>premium unleaded (required)</td>\n",
       "      <td>300.0</td>\n",
       "      <td>6.0</td>\n",
       "      <td>MANUAL</td>\n",
       "      <td>rear wheel drive</td>\n",
       "      <td>2.0</td>\n",
       "      <td>Luxury,Performance</td>\n",
       "      <td>Compact</td>\n",
       "      <td>Convertible</td>\n",
       "      <td>28</td>\n",
       "      <td>19</td>\n",
       "      <td>3916</td>\n",
       "      <td>40650</td>\n",
       "    </tr>\n",
       "    <tr>\n",
       "      <th>2</th>\n",
       "      <td>BMW</td>\n",
       "      <td>1 Series</td>\n",
       "      <td>2011</td>\n",
       "      <td>premium unleaded (required)</td>\n",
       "      <td>300.0</td>\n",
       "      <td>6.0</td>\n",
       "      <td>MANUAL</td>\n",
       "      <td>rear wheel drive</td>\n",
       "      <td>2.0</td>\n",
       "      <td>Luxury,High-Performance</td>\n",
       "      <td>Compact</td>\n",
       "      <td>Coupe</td>\n",
       "      <td>28</td>\n",
       "      <td>20</td>\n",
       "      <td>3916</td>\n",
       "      <td>36350</td>\n",
       "    </tr>\n",
       "    <tr>\n",
       "      <th>3</th>\n",
       "      <td>BMW</td>\n",
       "      <td>1 Series</td>\n",
       "      <td>2011</td>\n",
       "      <td>premium unleaded (required)</td>\n",
       "      <td>230.0</td>\n",
       "      <td>6.0</td>\n",
       "      <td>MANUAL</td>\n",
       "      <td>rear wheel drive</td>\n",
       "      <td>2.0</td>\n",
       "      <td>Luxury,Performance</td>\n",
       "      <td>Compact</td>\n",
       "      <td>Coupe</td>\n",
       "      <td>28</td>\n",
       "      <td>18</td>\n",
       "      <td>3916</td>\n",
       "      <td>29450</td>\n",
       "    </tr>\n",
       "    <tr>\n",
       "      <th>4</th>\n",
       "      <td>BMW</td>\n",
       "      <td>1 Series</td>\n",
       "      <td>2011</td>\n",
       "      <td>premium unleaded (required)</td>\n",
       "      <td>230.0</td>\n",
       "      <td>6.0</td>\n",
       "      <td>MANUAL</td>\n",
       "      <td>rear wheel drive</td>\n",
       "      <td>2.0</td>\n",
       "      <td>Luxury</td>\n",
       "      <td>Compact</td>\n",
       "      <td>Convertible</td>\n",
       "      <td>28</td>\n",
       "      <td>18</td>\n",
       "      <td>3916</td>\n",
       "      <td>34500</td>\n",
       "    </tr>\n",
       "  </tbody>\n",
       "</table>\n",
       "</div>"
      ],
      "text/plain": [
       "  Make       Model  Year             Engine Fuel Type  Engine HP  \\\n",
       "0  BMW  1 Series M  2011  premium unleaded (required)      335.0   \n",
       "1  BMW    1 Series  2011  premium unleaded (required)      300.0   \n",
       "2  BMW    1 Series  2011  premium unleaded (required)      300.0   \n",
       "3  BMW    1 Series  2011  premium unleaded (required)      230.0   \n",
       "4  BMW    1 Series  2011  premium unleaded (required)      230.0   \n",
       "\n",
       "   Engine Cylinders Transmission Type     Driven_Wheels  Number of Doors  \\\n",
       "0               6.0            MANUAL  rear wheel drive              2.0   \n",
       "1               6.0            MANUAL  rear wheel drive              2.0   \n",
       "2               6.0            MANUAL  rear wheel drive              2.0   \n",
       "3               6.0            MANUAL  rear wheel drive              2.0   \n",
       "4               6.0            MANUAL  rear wheel drive              2.0   \n",
       "\n",
       "                         Market Category Vehicle Size Vehicle Style  \\\n",
       "0  Factory Tuner,Luxury,High-Performance      Compact         Coupe   \n",
       "1                     Luxury,Performance      Compact   Convertible   \n",
       "2                Luxury,High-Performance      Compact         Coupe   \n",
       "3                     Luxury,Performance      Compact         Coupe   \n",
       "4                                 Luxury      Compact   Convertible   \n",
       "\n",
       "   highway MPG  city mpg  Popularity   MSRP  \n",
       "0           26        19        3916  46135  \n",
       "1           28        19        3916  40650  \n",
       "2           28        20        3916  36350  \n",
       "3           28        18        3916  29450  \n",
       "4           28        18        3916  34500  "
      ]
     },
     "execution_count": 13,
     "metadata": {},
     "output_type": "execute_result"
    }
   ],
   "source": [
    "df = pd.read_csv('../datasets/kaggle_Car_Feature.csv')\n",
    "df.head()"
   ]
  },
  {
   "cell_type": "markdown",
   "id": "fa0d9e5f-2d4e-4094-b74a-98614a11eff3",
   "metadata": {},
   "source": [
    "### Data Preprocessing:"
   ]
  },
  {
   "cell_type": "code",
   "execution_count": 20,
   "id": "65c6de00-9b2a-42f8-924d-70c232698a31",
   "metadata": {},
   "outputs": [
    {
     "name": "stdout",
     "output_type": "stream",
     "text": [
      "sentence 0: ['premium unleaded (required)', 'MANUAL', 'rear wheel drive', 'Factory Tuner', 'Luxury', 'High-Performance', 'Compact', 'Coupe', 'BMW 1 Series M']\n",
      "sentence 1: ['premium unleaded (required)', 'MANUAL', 'rear wheel drive', 'Luxury', 'Performance', 'Compact', 'Convertible', 'BMW 1 Series']\n"
     ]
    }
   ],
   "source": [
    "# step a. Create a new column for Make Model\n",
    "\n",
    "df['Maker_Model']= df['Make']+ \" \" + df['Model']\n",
    "\n",
    "# step b\n",
    "''' \n",
    ". Generate a format of ‘ list of lists’ for each Make Model with the following features: \n",
    "- Engine Fuel Type, \n",
    "- Transmission Type, \n",
    "- Driven_Wheels, \n",
    "- Market Category, \n",
    "- Vehicle Size, \n",
    "- Vehicle Style.\n",
    "'''\n",
    "# Select features from original dataset to form a new dataframe \n",
    "df1 = df[['Engine Fuel Type','Transmission Type','Driven_Wheels','Market Category','Vehicle Size', 'Vehicle Style', 'Maker_Model']]# For each row, combine all the columns into one column\n",
    "df2 = df1.apply(lambda x: ','.join(x.astype(str)), axis=1)# Store them in a pandas dataframe\n",
    "df_clean = pd.DataFrame({'clean': df2})# Create the list of list format of the custom corpus for gensim modeling \n",
    "sent = [row.split(',') for row in df_clean['clean']]# show the example of list of list format of the custom corpus for gensim modeling \n",
    "for i,s in enumerate(sent[:2]): print(f'sentence {i}: {s}')"
   ]
  },
  {
   "cell_type": "markdown",
   "id": "acc0e6f4-2481-46bc-854f-57cab5960696",
   "metadata": {},
   "source": [
    "### Genism word2vec Model Training\n",
    "- `vector_size=`: The number of dimensions of the embeddings and the default is 100.\n",
    "- `window`: The maximum distance between a target word and words around the target word. The default window is 5.\n",
    "- `min_count`: The minimum count of words to consider when training the model; words with occurrence less than this count will be ignored. The default for min_count is 5.\n",
    "- `workers`: The number of partitions during training and the default workers is 3.\n",
    "- `sg`: The training algorithm, either `CBOW(0)` or `skip gram(1)`. The default training algorithm is CBOW."
   ]
  },
  {
   "cell_type": "code",
   "execution_count": 48,
   "id": "c1c8c853-6da8-4528-a2b7-460bc9e841d1",
   "metadata": {},
   "outputs": [],
   "source": [
    "w2v_model = gensim.models.Word2Vec(sent, min_count=1, vector_size= 50, workers=3, window=3, sg=1)"
   ]
  },
  {
   "cell_type": "code",
   "execution_count": 49,
   "id": "34c4776f-1ce9-4665-9eef-7791bd44595f",
   "metadata": {},
   "outputs": [
    {
     "data": {
      "text/plain": [
       "array([ 0.00347449,  0.13032234,  0.00895088, -0.09915188, -0.06617405,\n",
       "       -0.21336047,  0.01785152,  0.28678197, -0.09003174, -0.08053584,\n",
       "        0.05317251,  0.03519896,  0.09932595, -0.02155515, -0.03664923,\n",
       "        0.17413662,  0.15097705,  0.28421023, -0.13789123, -0.29265764,\n",
       "       -0.04684168, -0.06329048,  0.26266465,  0.08241056,  0.16732113,\n",
       "       -0.00395776, -0.03883987,  0.3773339 , -0.04600707,  0.00162903,\n",
       "        0.02688237,  0.02481543,  0.02809183,  0.00681855,  0.08621044,\n",
       "       -0.12081461,  0.17721352, -0.01819158,  0.04662257,  0.06602315,\n",
       "        0.08958791, -0.03087981, -0.21251164,  0.07870276,  0.33582726,\n",
       "        0.05693889, -0.01815337, -0.14781004,  0.00249605,  0.02172189],\n",
       "      dtype=float32)"
      ]
     },
     "execution_count": 49,
     "metadata": {},
     "output_type": "execute_result"
    }
   ],
   "source": [
    "# word --2--> vec \n",
    "w2v_model.wv['Toyota Camry']"
   ]
  },
  {
   "cell_type": "code",
   "execution_count": 92,
   "id": "e166553c-eaae-4eeb-bcdd-ec6fa1035ff8",
   "metadata": {},
   "outputs": [
    {
     "name": "stdout",
     "output_type": "stream",
     "text": [
      "Vocabulary Size: 977 - Embedding Dim: 50 \n"
     ]
    }
   ],
   "source": [
    "# Retrieve the weights from the model. \n",
    "w2v_weights = w2v_model.wv.vectors\n",
    "vocab_size, embedding_size = w2v_weights.shape\n",
    "print(\"Vocabulary Size: {} - Embedding Dim: {} \".format(vocab_size, embedding_size))\n",
    "# summarize vocabulary\n",
    "words = (w2v_model.wv.index_to_key)\n"
   ]
  },
  {
   "cell_type": "code",
   "execution_count": 46,
   "id": "f5ef8f46-1228-4c49-b3e5-993bfe720570",
   "metadata": {},
   "outputs": [
    {
     "name": "stdout",
     "output_type": "stream",
     "text": [
      "Similarity between 'Porsche 718 Cayman' and 'Nissan Van'              is: '0.7824785709381104'\n",
      "Similarity between 'Porsche 718 Cayman' and 'Mercedes-Benz SLK-Class' is: '0.8899672031402588'\n"
     ]
    }
   ],
   "source": [
    "# word similarity\n",
    "car1, car2, car3 = 'Porsche 718 Cayman', 'Nissan Van',  'Mercedes-Benz SLK-Class'\n",
    "sim1 = w2v_model.wv.similarity(car1, car2)\n",
    "sim2 = w2v_model.wv.similarity(car1, car3)\n",
    "print(f\"Similarity between '{car1}' and '{car2}'              is: '{sim1}'\")\n",
    "print(f\"Similarity between '{car1}' and '{car3}' is: '{sim2}'\")"
   ]
  },
  {
   "cell_type": "code",
   "execution_count": 47,
   "id": "7d327d21-8b66-40e4-84f6-69b375bec3e1",
   "metadata": {},
   "outputs": [
    {
     "data": {
      "text/plain": [
       "[('Mercedes-Benz CL-Class', 0.9264065623283386),\n",
       " ('Rolls-Royce Phantom Coupe', 0.9241892099380493),\n",
       " ('Lexus LS 430', 0.923305869102478)]"
      ]
     },
     "execution_count": 47,
     "metadata": {},
     "output_type": "execute_result"
    }
   ],
   "source": [
    "# top 3 most similar cars to a sample car\n",
    "w2v_model.wv.most_similar(car1, topn=3)"
   ]
  },
  {
   "cell_type": "code",
   "execution_count": null,
   "id": "70933d93-8a16-4d54-b3fa-3f1dd2bcf8a9",
   "metadata": {},
   "outputs": [],
   "source": [
    "## Visualizing Word2Vec Embeddings with t-SNE "
   ]
  },
  {
   "cell_type": "code",
   "execution_count": 88,
   "id": "b2862459-3fe4-4411-b6fe-6dddc484c72a",
   "metadata": {},
   "outputs": [
    {
     "name": "stdout",
     "output_type": "stream",
     "text": [
      "word vector for 'Mitsubishi Sigma' is:\n",
      " [ 1.74077973e-03  1.58903450e-02 -9.48515814e-03 -1.39614427e-02\n",
      " -1.40139610e-02 -1.80027280e-02 -1.12549588e-02  3.29277031e-02\n",
      " -2.34959293e-02 -1.63744632e-02 -9.99915972e-03 -6.11203443e-03\n",
      " -1.62933543e-02  1.16924439e-02  1.07208444e-02  7.84136914e-03\n",
      "  2.84997616e-02  1.94774177e-02 -1.34006524e-02 -1.55810062e-02\n",
      " -1.55165205e-02 -9.04150028e-03  9.30931978e-03  3.85684171e-03\n",
      "  3.45184505e-02 -2.95178033e-05 -3.16180661e-02  5.35102934e-02\n",
      " -1.96260866e-02 -1.45845544e-02 -1.07832383e-02  4.34568990e-03\n",
      " -8.18881579e-03 -7.49885570e-03  1.70166772e-02  1.02918446e-02\n",
      "  5.26688434e-03 -1.95523985e-02  6.97551481e-03 -3.10944486e-03\n",
      " -1.02877738e-02 -1.33478716e-02 -7.24259531e-04  8.39989074e-03\n",
      "  3.18476595e-02 -2.62905704e-03  1.47860600e-02  1.02942102e-02\n",
      "  6.90464070e-03  9.82937962e-03]\n"
     ]
    }
   ],
   "source": [
    "def token2word(w2v_model, token):\n",
    "    return w2v_model.wv.index_to_key[token]\n",
    "\n",
    "# selecting some random icd_words\n",
    "n_samples = 20\n",
    "random.seed = 10\n",
    "random_i = random.sample(range(vocab_size), n_samples)\n",
    "random_car = [token2word(w2v_model,i) for i in random_i]\n",
    "# Generate Word2Vec embeddings of each word\n",
    "word_vecs = np.array([w2v_model.wv[w] for w in random_car])\n",
    "\n",
    "print(f\"word vector for '{random_car[0]}' is:\\n {word_vecs[0]}\")"
   ]
  },
  {
   "cell_type": "code",
   "execution_count": 91,
   "id": "e5bee158-40e6-40f8-8bcd-082b4059ca24",
   "metadata": {},
   "outputs": [
    {
     "data": {
      "image/png": "[encoded data removed]",
      "text/plain": [
       "<Figure size 1080x1080 with 1 Axes>"
      ]
     },
     "metadata": {
      "needs_background": "light"
     },
     "output_type": "display_data"
    }
   ],
   "source": [
    "from functools import partial\n",
    "import matplotlib.pyplot   as plt\n",
    "from sklearn.manifold      import TSNE\n",
    "\n",
    "c=list(set([w[0] for w in random_icd]))\n",
    "colormap = plt.cm.get_cmap('tab20b',len(c))#plt.cm.gist_ncar #nipy_spectral, Set1,Paired  \n",
    "colorst = [colormap(i) for i in range(len(c))]\n",
    "color_dict = {c[i]: colorst[i] for i in range(len(c))}\n",
    "\n",
    "\n",
    "# Apply t-SNE to Word2Vec embeddings, reducing to 2 dims\n",
    "tsne = TSNE(n_components=2, init='pca', random_state=0, perplexity=1)\n",
    "tsne_e = tsne.fit_transform(word_vecs)\n",
    "\n",
    "# Plot t-SNE result\n",
    "plt.figure(figsize=(15, 15))\n",
    "#plt.scatter(tsne_e[:, 0], tsne_e[:, 1], marker='o', c=range(len(random_icd)), cmap=plt.get_cmap('Spectral'))\n",
    "\n",
    "for label, x, y, in zip(random_icd, tsne_e[:, 0], tsne_e[:, 1]):\n",
    "    #print(label[0], color_dict[label[0]])\n",
    "    color = np.array(color_dict[label[0]]).reshape(1,-1)\n",
    "    plt.scatter(x, y, marker='o', c=color, cmap=plt.get_cmap('Spectral'))\n",
    "    \n",
    "    plt.annotate(label,\n",
    "                 xy=(x, y), xytext=(0, 15),\n",
    "                 textcoords='offset points', ha='right', va='bottom',\n",
    "                 bbox=dict(boxstyle='round, pad=0.2', fc='yellow', alpha=0.1))"
   ]
  }
 ],
 "metadata": {
  "kernelspec": {
   "display_name": "p36",
   "language": "python",
   "name": "p36"
  },
  "language_info": {
   "codemirror_mode": {
    "name": "ipython",
    "version": 3
   },
   "file_extension": ".py",
   "mimetype": "text/x-python",
   "name": "python",
   "nbconvert_exporter": "python",
   "pygments_lexer": "ipython3",
   "version": "3.6.10"
  }
 },
 "nbformat": 4,
 "nbformat_minor": 5
}
